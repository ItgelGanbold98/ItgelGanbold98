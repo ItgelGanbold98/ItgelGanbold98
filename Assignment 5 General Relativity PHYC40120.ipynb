{
 "cells": [
  {
   "cell_type": "code",
   "execution_count": 206,
   "metadata": {},
   "outputs": [],
   "source": [
    "from sympy import *\n",
    "import matplotlib.pyplot as plt\n",
    "\n"
   ]
  },
  {
   "cell_type": "code",
   "execution_count": 207,
   "metadata": {},
   "outputs": [],
   "source": [
    "c,t,x,y,z = symbols('c t x y z') #define our coordinates and constants \n",
    "\n",
    "a = Function('a')(t) #define our function a(t)\n",
    "\n",
    "\n",
    "g = Matrix([[c**2,0,0,0],[0,-a**2,0,0],[0,0,-a**2,0],[0,0,0,-a**2]]) #define our metric\n",
    "g_inv = g**(-1) #and its inverse\n"
   ]
  },
  {
   "cell_type": "code",
   "execution_count": 208,
   "metadata": {},
   "outputs": [
    {
     "data": {
      "text/latex": [
       "$\\displaystyle \\left[\\begin{matrix}c^{2} & 0 & 0 & 0\\\\0 & - a^{2}{\\left(t \\right)} & 0 & 0\\\\0 & 0 & - a^{2}{\\left(t \\right)} & 0\\\\0 & 0 & 0 & - a^{2}{\\left(t \\right)}\\end{matrix}\\right]$"
      ],
      "text/plain": [
       "Matrix([\n",
       "[c**2,        0,        0,        0],\n",
       "[   0, -a(t)**2,        0,        0],\n",
       "[   0,        0, -a(t)**2,        0],\n",
       "[   0,        0,        0, -a(t)**2]])"
      ]
     },
     "execution_count": 208,
     "metadata": {},
     "output_type": "execute_result"
    }
   ],
   "source": [
    "g #make sure our metric is shown correctly"
   ]
  },
  {
   "cell_type": "code",
   "execution_count": 209,
   "metadata": {},
   "outputs": [
    {
     "data": {
      "text/latex": [
       "$\\displaystyle \\left[\\begin{matrix}\\frac{1}{c^{2}} & 0 & 0 & 0\\\\0 & - \\frac{1}{a^{2}{\\left(t \\right)}} & 0 & 0\\\\0 & 0 & - \\frac{1}{a^{2}{\\left(t \\right)}} & 0\\\\0 & 0 & 0 & - \\frac{1}{a^{2}{\\left(t \\right)}}\\end{matrix}\\right]$"
      ],
      "text/plain": [
       "Matrix([\n",
       "[c**(-2),          0,          0,          0],\n",
       "[      0, -1/a(t)**2,          0,          0],\n",
       "[      0,          0, -1/a(t)**2,          0],\n",
       "[      0,          0,          0, -1/a(t)**2]])"
      ]
     },
     "execution_count": 209,
     "metadata": {},
     "output_type": "execute_result"
    }
   ],
   "source": [
    "g_inv #make sure our metric inverse is shown correctly"
   ]
  },
  {
   "cell_type": "markdown",
   "metadata": {},
   "source": [
    "## We have\n",
    "# $\\Gamma^{a}_{bc} = \\frac{1}{2} g^{ad} (\\partial_{b}g_{dc}+\\partial_{c}g_{bd}-\\partial_{d}g_{bc})$"
   ]
  },
  {
   "cell_type": "code",
   "execution_count": 210,
   "metadata": {},
   "outputs": [],
   "source": [
    "N = [t,x,y,z] #our coordinates\n",
    "\n",
    "\n",
    "def G(e,b,c): #G for Gamma\n",
    "    k=0\n",
    "    for d in range(0,4):\n",
    "        k += 1/2*g_inv[e,d]*(diff(g[d,c], N[b])+diff(g[b,d],N[c])-diff(g[b,c],N[d]))\n",
    "    return k #our connection coefficient\n",
    "        \n",
    "        "
   ]
  },
  {
   "cell_type": "code",
   "execution_count": 211,
   "metadata": {},
   "outputs": [
    {
     "name": "stdout",
     "output_type": "stream",
     "text": [
      "For a = 0, b = 1, c = 1, Γ is 1.0*a(t)*Derivative(a(t), t)/c**2\n",
      "For a = 0, b = 2, c = 2, Γ is 1.0*a(t)*Derivative(a(t), t)/c**2\n",
      "For a = 0, b = 3, c = 3, Γ is 1.0*a(t)*Derivative(a(t), t)/c**2\n",
      "For a = 1, b = 0, c = 1, Γ is 1.0*Derivative(a(t), t)/a(t)\n",
      "For a = 1, b = 1, c = 0, Γ is 1.0*Derivative(a(t), t)/a(t)\n",
      "For a = 2, b = 0, c = 2, Γ is 1.0*Derivative(a(t), t)/a(t)\n",
      "For a = 2, b = 2, c = 0, Γ is 1.0*Derivative(a(t), t)/a(t)\n",
      "For a = 3, b = 0, c = 3, Γ is 1.0*Derivative(a(t), t)/a(t)\n",
      "For a = 3, b = 3, c = 0, Γ is 1.0*Derivative(a(t), t)/a(t)\n"
     ]
    }
   ],
   "source": [
    "for i in range(0,4):\n",
    "    for j in range(0,4):\n",
    "        for n in range(0,4):\n",
    "            if G(i,j,n) == 0:\n",
    "                pass  #so we only see the non-zero connection coefficients\n",
    "            else:\n",
    "                print(f\"For a = {i}, b = {j}, c = {n}, \\u0393 is {G(i,j,n)}\")"
   ]
  },
  {
   "cell_type": "code",
   "execution_count": 212,
   "metadata": {},
   "outputs": [
    {
     "data": {
      "text/latex": [
       "$\\displaystyle \\frac{1.0 a{\\left(t \\right)} \\frac{d}{d t} a{\\left(t \\right)}}{c^{2}}$"
      ],
      "text/plain": [
       "1.0*a(t)*Derivative(a(t), t)/c**2"
      ]
     },
     "execution_count": 212,
     "metadata": {},
     "output_type": "execute_result"
    }
   ],
   "source": [
    "simplify(G(0,1,1))"
   ]
  },
  {
   "cell_type": "code",
   "execution_count": 213,
   "metadata": {},
   "outputs": [
    {
     "data": {
      "text/latex": [
       "$\\displaystyle \\frac{1.0 \\frac{d}{d t} a{\\left(t \\right)}}{a{\\left(t \\right)}}$"
      ],
      "text/plain": [
       "1.0*Derivative(a(t), t)/a(t)"
      ]
     },
     "execution_count": 213,
     "metadata": {},
     "output_type": "execute_result"
    }
   ],
   "source": [
    "simplify(G(1,0,1))"
   ]
  },
  {
   "cell_type": "markdown",
   "metadata": {},
   "source": [
    "## So we have non-zero connection coefficients to be\n",
    "# $\\Gamma^{0}_{11}=\\Gamma^{0}_{22}=\\Gamma^{0}_{33} = \\frac{a(t)\\dot{a}(t)}{c^2}$\n",
    "## the constant of proportionality is $1/c^2$ here and \n",
    "\n",
    "# $\\Gamma^{1}_{01}=\\Gamma^{2}_{02}=\\Gamma^{3}_{03} = \\Gamma^{1}_{10}=\\Gamma^{2}_{20}=\\Gamma^{3}_{30}= \\frac{\\dot{a}(t)}{a(t)}$\n",
    "## the constant of proportionality is $1$. "
   ]
  },
  {
   "cell_type": "markdown",
   "metadata": {},
   "source": [
    "## To compute the Ricci Tensor we use the equations \n",
    "# $R^{d}_{abc} = \\partial_b\\Gamma^d_{ac}-\\partial_c\\Gamma^d_{ab}+\\Gamma^e_{ac}\\Gamma^d_{eb}-\\Gamma^e_{ab}\\Gamma^d_{ec}$ \n",
    "# $R_{abcd} = g_{ae}R^e_{bcd} $ \n",
    "# $R_{bd} = g^{ac}R_{abcd}$\n",
    "## Let's do some manipulations to reduce it to a simpler formula."
   ]
  },
  {
   "cell_type": "markdown",
   "metadata": {},
   "source": [
    "# $R_{ac} = g^{bd}g_{ae}R^{e}_{bcd}$\n",
    "# $R_{ac} = g^{bd}g_{ae}(\\partial_c\\Gamma^e_{bd}-\\partial_d\\Gamma^e_{bc}+\\Gamma^f_{bd}\\Gamma^e_{fc}-\\Gamma^f_{bc}\\Gamma^e_{fd})$\n",
    "## but since our metric $g$ is symmetric, the first two terms give 1 whenever $d = b$ and $a=e $ as otherwise its 0. Which leaves us with:\n",
    "\n",
    "# $R_{ac} = (\\partial_c\\Gamma^a_{dd}-\\partial_d\\Gamma^a_{dc}+\\Gamma^f_{dd}\\Gamma^a_{fc}-\\Gamma^f_{dc}\\Gamma^a_{fd})$\n",
    "# equivalently we have:\n",
    "# $R_{ij} = \\displaystyle\\sum_{a=0}^{3} \\partial_a\\Gamma^a_{ij} - \\displaystyle\\sum_{a=0}^{3} \\partial_i\\Gamma^a_{aj}+\n",
    "\\displaystyle\\sum_{a=0}^{3}\\displaystyle\\sum_{b=0}^{3}(\\Gamma^a_{ab}\\Gamma^b_{ij}-\\Gamma^a_{ib}\\Gamma^b_{aj}) $\n",
    "    \n",
    "    "
   ]
  },
  {
   "cell_type": "code",
   "execution_count": 139,
   "metadata": {},
   "outputs": [],
   "source": [
    "def R(a,c):\n",
    "    g = 0\n",
    "    h = 0\n",
    "    i = 0\n",
    "    for k in range(0,4):\n",
    "        g += diff(G(k,a,c),N[k])\n",
    "        h += diff(G(k,k,c),N[a])\n",
    "        for l in range(0,4):\n",
    "            i += (G(k,k,l)*G(l,a,c)-G(k,a,l)*G(l,k,c))\n",
    "    return g-h+i"
   ]
  },
  {
   "cell_type": "code",
   "execution_count": 140,
   "metadata": {
    "scrolled": true
   },
   "outputs": [
    {
     "name": "stdout",
     "output_type": "stream",
     "text": [
      "Ricci tensor R(0,0) is -3.0*Derivative(a(t), (t, 2))/a(t))\n",
      "Ricci tensor R(1,1) is 1.0*a(t)*Derivative(a(t), (t, 2))/c**2 + 2.0*Derivative(a(t), t)**2/c**2)\n",
      "Ricci tensor R(2,2) is 1.0*a(t)*Derivative(a(t), (t, 2))/c**2 + 2.0*Derivative(a(t), t)**2/c**2)\n",
      "Ricci tensor R(3,3) is 1.0*a(t)*Derivative(a(t), (t, 2))/c**2 + 2.0*Derivative(a(t), t)**2/c**2)\n"
     ]
    }
   ],
   "source": [
    "for i in range(0,4):\n",
    "    for j in range(0,4):\n",
    "        if R(i,j) == 0:\n",
    "            pass\n",
    "        else:\n",
    "            print(f\"Ricci tensor R({i},{j}) is {R(i,j)})\")"
   ]
  },
  {
   "cell_type": "code",
   "execution_count": 214,
   "metadata": {},
   "outputs": [
    {
     "data": {
      "text/latex": [
       "$\\displaystyle - \\frac{3.0 \\frac{d^{2}}{d t^{2}} a{\\left(t \\right)}}{a{\\left(t \\right)}}$"
      ],
      "text/plain": [
       "-3.0*Derivative(a(t), (t, 2))/a(t)"
      ]
     },
     "execution_count": 214,
     "metadata": {},
     "output_type": "execute_result"
    }
   ],
   "source": [
    "simplify(R(0,0))"
   ]
  },
  {
   "cell_type": "code",
   "execution_count": 215,
   "metadata": {},
   "outputs": [
    {
     "data": {
      "text/latex": [
       "$\\displaystyle \\frac{1.0 a{\\left(t \\right)} \\frac{d^{2}}{d t^{2}} a{\\left(t \\right)} + 2.0 \\left(\\frac{d}{d t} a{\\left(t \\right)}\\right)^{2}}{c^{2}}$"
      ],
      "text/plain": [
       "(1.0*a(t)*Derivative(a(t), (t, 2)) + 2.0*Derivative(a(t), t)**2)/c**2"
      ]
     },
     "execution_count": 215,
     "metadata": {},
     "output_type": "execute_result"
    }
   ],
   "source": [
    "simplify(R(1,1))"
   ]
  },
  {
   "cell_type": "markdown",
   "metadata": {},
   "source": [
    "## Now we have our non-zero Ricci tensor components as desired.\n",
    "# $R_{00} = \\frac{-3 \\ddot{a}(t)}{a(t)}$\n",
    "# $R_{11} = R_{22} = R_{33} = \\frac{a(t)\\ddot{a}(t)+2\\dot{a}(t)^2}{c^2}$\n",
    "## the proportionality constant is $-3$ for $R_{00}$ , and $\\frac{1}{c^2}$ for $R_{ij}$ where $i=j$.\n"
   ]
  },
  {
   "cell_type": "code",
   "execution_count": 216,
   "metadata": {},
   "outputs": [
    {
     "data": {
      "text/latex": [
       "$\\displaystyle - \\frac{6.0 a{\\left(t \\right)} \\frac{d^{2}}{d t^{2}} a{\\left(t \\right)} + 6.0 \\left(\\frac{d}{d t} a{\\left(t \\right)}\\right)^{2}}{c^{2} a^{2}{\\left(t \\right)}}$"
      ],
      "text/plain": [
       "-(6.0*a(t)*Derivative(a(t), (t, 2)) + 6.0*Derivative(a(t), t)**2)/(c**2*a(t)**2)"
      ]
     },
     "execution_count": 216,
     "metadata": {},
     "output_type": "execute_result"
    }
   ],
   "source": [
    "def Ricci_sc(x):\n",
    "    p=0\n",
    "    for i in range(0,4):\n",
    "        for j in range(0,4):\n",
    "            p+= g_inv[i,j]*R(i,j)\n",
    "    return (p)\n",
    "\n",
    "simplify(Ricci_sc(x))\n",
    "\n",
    "        "
   ]
  },
  {
   "cell_type": "markdown",
   "metadata": {},
   "source": [
    "## The Curvature scalar is given by $R = g^{ab}R_{ab}$\n",
    "## And so we have $R = g^{00}R_{00}+g^{11}R_{11}+g^{22}R_{22}+g^{33}R_{33}$\n",
    "## Which is $-\\frac{3\\ddot{a}(t)}{c^2a(t)}-3 \\frac{\\left(a(t)\\ddot{a}(t)+2\\dot{a}^2(t)\\right)}{a^2(t)c^2}$\n",
    "# $R = -\\frac{6a(t)\\ddot{a}(t)+6\\dot{a}^2}{a^2c^2}$"
   ]
  },
  {
   "cell_type": "code",
   "execution_count": 217,
   "metadata": {},
   "outputs": [],
   "source": [
    "Ricci = diag(R(0,0),R(1,1),R(2,2),R(3,3)) #this is our Ricci tensor\n",
    "Ricci_scalar = -(6*a*diff(a,t,t)+6*diff(a,t)**2)/(a**2*c**2)\n"
   ]
  },
  {
   "cell_type": "markdown",
   "metadata": {},
   "source": [
    "## The Einstein Tensor is given by \n",
    "# $G_{ab} = R_{ab} - \\frac{1}{2}g_{ab}R$\n",
    "## where $R$ is the curvature scalar and $R_{ab}$ is the Ricci tensor."
   ]
  },
  {
   "cell_type": "code",
   "execution_count": 218,
   "metadata": {},
   "outputs": [],
   "source": [
    "def Einstein(a,b):\n",
    "    return Ricci[a,b]-1/2*g[a,b]*Ricci_scalar"
   ]
  },
  {
   "cell_type": "code",
   "execution_count": 219,
   "metadata": {},
   "outputs": [
    {
     "name": "stdout",
     "output_type": "stream",
     "text": [
      "G00 is -0.5*(-6*a(t)*Derivative(a(t), (t, 2)) - 6*Derivative(a(t), t)**2)/a(t)**2 - 3.0*Derivative(a(t), (t, 2))/a(t)\n",
      "G11 is 0.5*(-6*a(t)*Derivative(a(t), (t, 2)) - 6*Derivative(a(t), t)**2)/c**2 + 1.0*a(t)*Derivative(a(t), (t, 2))/c**2 + 2.0*Derivative(a(t), t)**2/c**2\n",
      "G22 is 0.5*(-6*a(t)*Derivative(a(t), (t, 2)) - 6*Derivative(a(t), t)**2)/c**2 + 1.0*a(t)*Derivative(a(t), (t, 2))/c**2 + 2.0*Derivative(a(t), t)**2/c**2\n",
      "G33 is 0.5*(-6*a(t)*Derivative(a(t), (t, 2)) - 6*Derivative(a(t), t)**2)/c**2 + 1.0*a(t)*Derivative(a(t), (t, 2))/c**2 + 2.0*Derivative(a(t), t)**2/c**2\n"
     ]
    }
   ],
   "source": [
    "for i in range(0,4):\n",
    "    for k in range(0,4):\n",
    "        if Einstein(i,k) == 0:\n",
    "            pass\n",
    "        else:\n",
    "            print(f\"G{i}{k} is {Einstein(i,k)}\")"
   ]
  },
  {
   "cell_type": "code",
   "execution_count": 220,
   "metadata": {},
   "outputs": [
    {
     "data": {
      "text/latex": [
       "$\\displaystyle \\frac{3.0 \\left(\\frac{d}{d t} a{\\left(t \\right)}\\right)^{2}}{a^{2}{\\left(t \\right)}}$"
      ],
      "text/plain": [
       "3.0*Derivative(a(t), t)**2/a(t)**2"
      ]
     },
     "execution_count": 220,
     "metadata": {},
     "output_type": "execute_result"
    }
   ],
   "source": [
    "simplify(Einstein(0,0))"
   ]
  },
  {
   "cell_type": "code",
   "execution_count": 221,
   "metadata": {},
   "outputs": [
    {
     "data": {
      "text/latex": [
       "$\\displaystyle - \\frac{2.0 a{\\left(t \\right)} \\frac{d^{2}}{d t^{2}} a{\\left(t \\right)} + 1.0 \\left(\\frac{d}{d t} a{\\left(t \\right)}\\right)^{2}}{c^{2}}$"
      ],
      "text/plain": [
       "-(2.0*a(t)*Derivative(a(t), (t, 2)) + 1.0*Derivative(a(t), t)**2)/c**2"
      ]
     },
     "execution_count": 221,
     "metadata": {},
     "output_type": "execute_result"
    }
   ],
   "source": [
    "simplify(Einstein(1,1))"
   ]
  },
  {
   "cell_type": "markdown",
   "metadata": {},
   "source": [
    "## So we now have the components of the Einstein tensor $G_{ab}$\n",
    "# $G_{00} = 3 \\frac{\\dot{a}^2(t)}{a^2(t)}$ and $G_{ij} = -\\frac{2a(t)\\ddot{a}(t)+\\dot{a}^2(t)}{c^2}$ where $i=j$"
   ]
  }
 ],
 "metadata": {
  "kernelspec": {
   "display_name": "Python 3",
   "language": "python",
   "name": "python3"
  },
  "language_info": {
   "codemirror_mode": {
    "name": "ipython",
    "version": 3
   },
   "file_extension": ".py",
   "mimetype": "text/x-python",
   "name": "python",
   "nbconvert_exporter": "python",
   "pygments_lexer": "ipython3",
   "version": "3.7.6"
  }
 },
 "nbformat": 4,
 "nbformat_minor": 4
}
